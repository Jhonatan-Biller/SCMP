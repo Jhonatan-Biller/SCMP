{
 "cells": [
  {
   "cell_type": "markdown",
   "id": "f8e0b478-3f4f-47bd-b3f0-270aed39ca7f",
   "metadata": {},
   "source": [
    "<i>\n",
    "    Universidade Federal do Paraná          -           \n",
    "    Programa de Pós-Graduação em Matemática <br>\n",
    "    Álgebra Linear Aplicada                 -\n",
    "    Trabalho Computacional                  <br>\n",
    "    Professor Leonardo Silva de Lima        <br>\n",
    "                                            <br>\n",
    "    Aluno: Jhonatan Rodrigues Biller; jhonatan.biller@furg.br\n",
    "</i>\n"
   ]
  },
  {
   "cell_type": "markdown",
   "id": "7b33d1d5-bdcf-4c62-bb54-2d2f5af948aa",
   "metadata": {},
   "source": [
    "<h2>\n",
    "    <b>\n",
    "        <font color='#660000'>\n",
    "            Trabalho computacional: Redução de Dimensionalidade através da Decomposição por Valores Singulares e Agrupamento \n",
    "        </font>\n",
    "    </b>\n",
    "</h2>\n",
    "\n",
    "&nbsp; Este trabalho realiza o agrupamento de um conjunto de dados, organizados em uma matriz $A$, em duas categorias utilizando a decomposição em valores singulares reduzida (SVD) dessa matriz. O agrupamento é efetuado pela redução da dimensionalidade da matriz decomposta. A fatoração é obtida através da iteração QR aplicada a $A^TA$. Ao final deste notebook, são apresentadas comparações entre os resultados obtidos para cada decomposição com dimensão reduzida, além de comparações com os resultados de bibliotecas Python já implementadas."
   ]
  },
  {
   "cell_type": "markdown",
   "id": "a8af3931-c406-4b8f-954f-71ea97f9b288",
   "metadata": {},
   "source": [
    "<h3>\n",
    "    <b>   \n",
    "        <font color='#092A44'>\n",
    "            &nbsp; 1. Fundamentação Matemática\n",
    "        </font>\n",
    "    </b>\n",
    "</h3>\n",
    "\n",
    "<h4>\n",
    "    <b>   \n",
    "        <font color='#092A44'>\n",
    "            &nbsp; &nbsp; 1.1 Transformações de Householder\n",
    "        </font>\n",
    "    </b>\n",
    "</h4>\n",
    "\n",
    "&nbsp; Uma transformação de Householder é uma transformação linear que reflete um vetor em relação a um hiperplano ortogonal a um vetor dado. Para um vetor $v$ não nulo em $\\mathbb{R}^m$, a transformação de Householder é definida como:\n",
    "\n",
    "$$ H = I-2ww^T. $$\n",
    "\n",
    "&nbsp; Dado $x \\in \\mathbb{R}^m$, O vetor $w$ é dado por $w=\\frac{x-y}{\\|x-y\\|}$ onde $y = -\\text{sign}(x_1)\\|x\\|_{2}e_1$. Temos que $H$ é ortogonal e $Hx= \\|x\\|_{2} e_1 $. \n",
    "\n",
    "\n",
    "<h4>\n",
    "    <b>   \n",
    "        <font color='#092A44'>\n",
    "            &nbsp; &nbsp; 1.2 Householder QR\n",
    "        </font>\n",
    "    </b>\n",
    "</h4>\n",
    "\n",
    "&nbsp;  Uma matriz retangular $A \\in \\mathbb{R}^{m \\times n}$ pode ser fatorada como o produto de uma matriz ortogonal $Q \\in \\mathbb{R}^{m \\times m}$ e uma matriz triangular superior $R \\in \\mathbb{R}^{m \\times n}$:\n",
    "\n",
    "$$ A = QR.$$\n",
    "\n",
    "&nbsp; A fatoração QR pode ser encontrada através de transformações de Householder. Inicialmente, assuma que as matrizes de Householder $H_1$ e $H_2$ foram computadas de modo que:\n",
    "\n",
    "$$ H_2 H_1 A = \\begin{bmatrix}\n",
    " \\times & \\times  & \\times  & \\times & \\times \\\\\n",
    "0 & \\times  & \\times & \\times  & \\times  \\\\\n",
    "0 & 0 & \\textbf{x}  & \\times  & \\times  \\\\\n",
    "0 & 0 & \\textbf{x} &  \\times & \\times \\\\\n",
    "0 & 0 & \\textbf{x} &  \\times & \\times \\\\\n",
    "0 & 0  &  \\textbf{x} & \\times  & \\times  \\\\\n",
    "\\end{bmatrix}, $$\n",
    "\n",
    "&nbsp; Observando as entradas destacadas, determina-se uma matriz de Householder $\\tilde{H_3} \\in R \\in \\mathbb{R}^{4 \\times 4}$ tal que:\n",
    "$$\n",
    "\\tilde{H_3}\n",
    "\\begin{bmatrix}\n",
    " \\textbf{x} \\\\\n",
    " \\textbf{x} \\\\\n",
    " \\textbf{x} \\\\\n",
    " \\textbf{x}\n",
    "\\end{bmatrix}\n",
    "=\\begin{bmatrix}\n",
    " \\times \\\\\n",
    " 0 \\\\\n",
    " 0 \\\\\n",
    " 0\n",
    "\\end{bmatrix},$$\n",
    "\n",
    "&nbsp; Se $H_3=\\text{diag}(I_2,\\tilde{H_3})$, então:\n",
    "\n",
    "$$ H_3H_2H_1A=\n",
    "\\begin{bmatrix}\n",
    " \\times & \\times  & \\times  & \\times & \\times \\\\\n",
    "0 & \\times  & \\times & \\times  & \\times  \\\\\n",
    "0 & 0 & \\times  & \\times  & \\times  \\\\\n",
    "0 & 0 & 0 &  \\times & \\times \\\\\n",
    "0 & 0 & 0 &  \\times & \\times \\\\\n",
    "0 & 0  &  0 & \\times  & \\times  \\\\\n",
    "\\end{bmatrix},$$\n",
    "\n",
    "Após $n$ passos obtemos uma matriz triangular superior $H_nH_{n-1} \\cdots H_1A=R$ e escrevendo $Q=H_1 \\cdots H_n$ obtemos $A=QR$. "
   ]
  },
  {
   "cell_type": "markdown",
   "id": "b4a00c59-20c8-4b45-8dfc-41b03d958645",
   "metadata": {},
   "source": [
    "<h4>\n",
    "    <b>   \n",
    "        <font color='#092A44'>\n",
    "            &nbsp; 1.3 Iteração QR\n",
    "        </font>\n",
    "    </b>\n",
    "</h4>\n",
    "\n",
    "&nbsp; Uma matriz quadrada $A \\in \\mathbb{R}^{n \\times n}$ pode ser iterativamente decomposta através da iteração QR. Este método visa encontrar os autovalores de $A$. Iniciando com $A_0 = A$, para cada iteração $k=1,2,3,\\dots$:\n",
    "\n",
    "$$ A_k =  Q_kR_k,$$ \n",
    "$$ A_{k+1} =  R_kQ_k.$$ \n",
    "\n",
    "&nbsp; Os passos acima devem ser repetidos até que $A_k$ convirja para uma forma diagonal superior ou próxima o suficiente para os autovalores desejados. Ao final da iteração, $A_k$​ converge para uma matriz diagonal superior $D$, onde os elementos diagonais de $D$ são os autovalores de $A$.\n",
    "\n",
    "<h4>\n",
    "    <b>   \n",
    "        <font color='#092A44'>\n",
    "            &nbsp; 1.4 Decomposição em Valores Singulares\n",
    "        </font>\n",
    "    </b>\n",
    "</h4>\n",
    "\n",
    "\n",
    "&nbsp; Dada uma matriz $A \\in \\mathbb{R}^{m \\times n}$ com $m \\geq n$ a Decomposição em Valores Singulares (SVD) completa é expressa como:\n",
    "$$ A = U \\Sigma V^T,$$\n",
    "\n",
    "onde $U \\in \\mathbb{R}^{m \\times m}$ e $V \\in \\mathbb{R}^{n \\times n}$ são matrizes ortogonais. As colunas de $V$ são os autovalores da matriz $A$ e a matriz $\\Sigma \\in \\mathbb{R}^{m \\times n}$ tem ao longo de sua diagonal principal os elementos $\\sigma_i$​ (chamados valores singulares) que são não-negativos e ordenados em ordem decrescente.\n",
    "\n",
    "<h4>\n",
    "    <b>   \n",
    "        <font color='#092A44'>\n",
    "            &nbsp; 1.5 Decomposição em Valores Singulares Reduzida\n",
    "        </font>\n",
    "    </b>\n",
    "</h4>\n",
    "\n",
    "&nbsp; A decomposição SVD reduzida é uma forma compacta da decomposição SVD completa (1.4) e é dada por:\n",
    "\n",
    "$$ A = U_r \\Sigma_r V^T_r,$$\n",
    "\n",
    "onde as matrizes da decomposição possuem as mesmas propriedades exceto suas dimensões: $U_r \\in \\mathbb{R}^{m \\times r}$, $\\Sigma_r \\in \\mathbb{R}^{r \\times r}$ e $V_r \\in \\mathbb{R}^{n \\times r}$, onde $r=\\text{rank}(A)$. \n",
    "\n",
    "<h4>\n",
    "    <b>   \n",
    "        <font color='#092A44'>\n",
    "            &nbsp; 1.6 Iteração QR e a matriz $A^TA$\n",
    "        </font>\n",
    "    </b>\n",
    "</h4>\n",
    "\n",
    "&nbsp; A matriz $A^TA$ é simétrica e semi-definida positiva. A iteração QR faz com que ela convirja para uma matriz diagonal, cujos elementos são os autovalores de $A^TA$, que por sua vez são os quadrados dos valores singulares de $A$. Já a matriz $Q_{\\text{total}}$ acumulada durante a iteração QR de $A^TA$ é composta pelos autovetores de $A^TA$, que representa a matriz $V$ da decomposição SVD de $A$. \n",
    "\n",
    "<h4>\n",
    "    <b>   \n",
    "        <font color='#092A44'>\n",
    "            &nbsp; 1.7 Redução de dimensionalidade SVD\n",
    "        </font>\n",
    "    </b>\n",
    "</h4>\n",
    "\n",
    "&nbsp; A redução de dimensionalidade na SVD é o processo de aproximar uma matriz $A \\in \\mathbb{R}^{m \\times n}$ por uma versão de menor <i>rank</i>, mantendo apenas os $k$ maiores valores singulares e os correspondentes vetores singulares esquerdos e direitos. Dado $A = U \\Sigma V^T$, a versão reduzida é dada por:\n",
    "\n",
    "$$A_k = U_k \\Sigma_k V_k^T.$$\n",
    "\n",
    "<h4>\n",
    "    <b>   \n",
    "        <font color='#092A44'>\n",
    "            &nbsp; 1.8 Cálculo de $A=U \\Sigma V^T$ via iteração QR de $A^TA$\n",
    "        </font>\n",
    "    </b>\n",
    "</h4>\n",
    "\n",
    "&nbsp; Como mensionado na subseção 1.6 e 1.4, As matrizes $\\Sigma$ e $V$ que compõe a SVD de $A$ são obtidas diretamente após realizar a iteração QR de $A^TA$, pois a matriz $\\Sigma$ é formada pelas raízes quadradas dos valores singulares de $A^TA$ em sua diagonal princial e a matriz $V=Q_{\\text{total}}$. Para obter $U$, pode-se utilizar a relação $U=AV\\Sigma^{-1}$.\n",
    "\n",
    "&nbsp; A seção a seguir apresenta a implementação computacional do problema."
   ]
  },
  {
   "cell_type": "markdown",
   "id": "970c91f5-92e3-4b95-b48b-e61ef4841456",
   "metadata": {},
   "source": [
    "<h3>\n",
    "    <b>   \n",
    "        <font color='#092A44'>\n",
    "            &nbsp; 2. Implementação computacional\n",
    "        </font>\n",
    "    </b>\n",
    "</h3>\n",
    "\n",
    "<h4>\n",
    "    <b>   \n",
    "        <font color='#092A44'>\n",
    "            &nbsp; &nbsp; 2.1 Tratamento da matriz $A$\n",
    "        </font>\n",
    "    </b>\n",
    "</h4>"
   ]
  },
  {
   "cell_type": "markdown",
   "id": "6f371b42-755d-4d62-acee-cef7c6340b32",
   "metadata": {},
   "source": [
    "&nbsp; No bloco de código abaixo, são importadas as seguintes bibliotecas:\n",
    "\n",
    "<ul>\n",
    "    <li><b>os</b>: Para visualização do diretório atual.</li>\n",
    "    <li><b>NumPy</b>: Para manipulação de arrays.</li>\n",
    "    <li><b>SciPy</b>: Para normalizar as colunas da matriz original.</li>\n",
    "    <li><b>pandas</b>: Para leitura e formatação do arquivo stars.txt.</li>\n",
    "    <li><b>scikit-learn</b>: Para agrupar os dados.</li>\n",
    "</ul>\n",
    "\n",
    "➥ Carregando bibliotecas"
   ]
  },
  {
   "cell_type": "code",
   "execution_count": 1,
   "id": "bce6a2f8-0e02-4118-adf3-2b3392298583",
   "metadata": {},
   "outputs": [],
   "source": [
    "import os\n",
    "import numpy as np\n",
    "import pandas as pd\n",
    "from scipy.stats import zscore\n",
    "from sklearn.cluster import KMeans\n",
    "from sklearn.metrics import accuracy_score"
   ]
  },
  {
   "cell_type": "markdown",
   "id": "46f4166f-2f2a-44e9-8408-f7fe60f9b591",
   "metadata": {},
   "source": [
    "➥ Obtendo o diretório atual:"
   ]
  },
  {
   "cell_type": "code",
   "execution_count": 2,
   "id": "e3d1fc6c-3369-4334-8387-13a515f59c50",
   "metadata": {},
   "outputs": [
    {
     "name": "stdout",
     "output_type": "stream",
     "text": [
      "/home/jhonatan/Documentos/GitHub/Algebra-Linear_Aplicada\n"
     ]
    }
   ],
   "source": [
    "print(os.getcwd())"
   ]
  },
  {
   "cell_type": "markdown",
   "id": "4d6ea32a-8665-4bbe-870f-6139ea3bca5e",
   "metadata": {},
   "source": [
    "➥ Lendo o arquivo stars.txt e armazenando na variável <b>A_completa</b>."
   ]
  },
  {
   "cell_type": "code",
   "execution_count": 3,
   "id": "87eb693f-f521-4675-8fbe-03c60de1dbdb",
   "metadata": {},
   "outputs": [
    {
     "data": {
      "text/plain": [
       "(5802, 19)"
      ]
     },
     "execution_count": 3,
     "metadata": {},
     "output_type": "execute_result"
    }
   ],
   "source": [
    "df = pd.read_csv('stars.txt', header=None)\n",
    "A_completa = df.values.tolist()\n",
    "A_completa = np.array(A_completa)\n",
    "A_completa.shape"
   ]
  },
  {
   "cell_type": "markdown",
   "id": "d5c75a05-6da1-4b22-8c2c-500a0811ab54",
   "metadata": {},
   "source": [
    "➥ Removendo a última coluna de <b>A_completa</b> (gabarito) e armazenando em <b>A</b>."
   ]
  },
  {
   "cell_type": "code",
   "execution_count": 4,
   "id": "21ca592e-e735-4022-97b0-9dc61a58a2d2",
   "metadata": {},
   "outputs": [
    {
     "data": {
      "text/plain": [
       "(5802, 18)"
      ]
     },
     "execution_count": 4,
     "metadata": {},
     "output_type": "execute_result"
    }
   ],
   "source": [
    "A = A_completa[:, :-1]\n",
    "A.shape"
   ]
  },
  {
   "cell_type": "markdown",
   "id": "4a1dbf91-d34c-489a-8b59-e1e63f0f5aa2",
   "metadata": {},
   "source": [
    "➥ Aplicando o z-score nas colunas de <b>A</b>."
   ]
  },
  {
   "cell_type": "code",
   "execution_count": 5,
   "id": "7fa5aa5b-6f55-4e70-9dcc-d5f42fc7d49a",
   "metadata": {},
   "outputs": [],
   "source": [
    "A = zscore(A, axis=0)"
   ]
  },
  {
   "cell_type": "markdown",
   "id": "e2bb2e2b-15c7-4c2f-976d-198ab8b8b03a",
   "metadata": {},
   "source": [
    "<h4>\n",
    "    <b>   \n",
    "        <font color='#092A44'>\n",
    "            &nbsp; &nbsp; 2.2 Definição de funções\n",
    "        </font>\n",
    "    </b>\n",
    "</h4>"
   ]
  },
  {
   "cell_type": "markdown",
   "id": "39e26df4-5204-4d79-b93b-c84f6fbf842e",
   "metadata": {},
   "source": [
    "➥ A função a seguir calcula o vetor de Householder dado $x \\in \\mathbb{R}^m$:"
   ]
  },
  {
   "cell_type": "code",
   "execution_count": 6,
   "id": "1507f755-2f1a-4034-9b7a-7cc37df6d43f",
   "metadata": {},
   "outputs": [],
   "source": [
    "def vetor_householder(x):\n",
    "    y =  - np.sign(x[0]) * np.linalg.norm(x) * np.eye(1,len(x))[0]\n",
    "    w = x - y\n",
    "    if np.linalg.norm(w) != 0:\n",
    "        w /= np.linalg.norm(w)\n",
    "    return w"
   ]
  },
  {
   "cell_type": "markdown",
   "id": "a3a820b9-79c7-47f1-88b4-09d7a023ac36",
   "metadata": {},
   "source": [
    "➥ Escrevendo a função <b>decomposicao_qr</b>, responsável por obter uma fatoração $A=QR$ via transformações de Householder:"
   ]
  },
  {
   "cell_type": "code",
   "execution_count": 7,
   "id": "fd87a3b7-c705-4c96-960a-6b040116ef82",
   "metadata": {},
   "outputs": [],
   "source": [
    "def decomposicao_qr(A, threshold=1e-10):\n",
    "    m, n = A.shape\n",
    "    Q = np.eye(m)\n",
    "    R = np.copy(A).astype(float)\n",
    "\n",
    "    for j in range(n):\n",
    "        x = R[j:, j]\n",
    "        w = vetor_householder(x)\n",
    "\n",
    "        H = np.eye(m)\n",
    "        H[j:, j:] -= 2 * np.outer(w, w)\n",
    "\n",
    "        R = np.dot(H, R)\n",
    "\n",
    "        Q = np.dot(Q, H) \n",
    "\n",
    "        R[np.abs(R) < threshold] = 0\n",
    "\n",
    "    return Q, R"
   ]
  },
  {
   "cell_type": "markdown",
   "id": "6e253d7b-c60a-4923-bdf2-735fd1dc0b76",
   "metadata": {},
   "source": [
    "➥ Escrevendo a função <b>iteracao_qr</b> para obter os autovalores e autovetores de $A^TA$ e $AA^T$:"
   ]
  },
  {
   "cell_type": "code",
   "execution_count": 8,
   "id": "1ddf0bf6-ede5-430c-bde6-74cb41f615ae",
   "metadata": {},
   "outputs": [],
   "source": [
    "def iteracao_qr(A,n_it,tol=1e-10):\n",
    "\n",
    "    Q_total = np.eye(A.shape[0])\n",
    "    \n",
    "    for i in range(0,n_it):\n",
    "        \n",
    "        Q, R    = decomposicao_qr(A)\n",
    "        A       = R @ Q\n",
    "        Q_total = Q_total @ Q\n",
    "\n",
    "        soma_fora_diag = np.sum(np.abs(A - np.diag(np.diagonal(A))))\n",
    "        if soma_fora_diag < tol:\n",
    "            break\n",
    "\n",
    "    autovalores = np.diag(A)\n",
    "    autovetores = Q_total\n",
    "    \n",
    "    return autovalores, autovetores"
   ]
  },
  {
   "cell_type": "markdown",
   "id": "0282c645-413c-42d7-aa52-979e351bf856",
   "metadata": {},
   "source": [
    "➥ Escrevendo a função <b>reducao_ordem</b>, essa função é reponsável para obter uma aproximação de $A$ pela redução de ordem da decomposição SVD da matriz $A$:"
   ]
  },
  {
   "cell_type": "code",
   "execution_count": 9,
   "id": "c297fb26-e997-4386-a09e-e59f746353cf",
   "metadata": {},
   "outputs": [],
   "source": [
    "def reducao_ordem(U, Sigma, VT, k):\n",
    "\n",
    "    k      -= 1\n",
    "    U_k     = U[:, :k]  \n",
    "    Sigma_k = Sigma[:k, :k] \n",
    "    VT_k    = VT[:k, :] \n",
    "    A_k     = U_k @ Sigma_k @ VT_k\n",
    "    \n",
    "    return A_k"
   ]
  },
  {
   "cell_type": "markdown",
   "id": "cc0394c0-ef96-4cb3-be88-ff56cab155be",
   "metadata": {},
   "source": [
    "<h4>\n",
    "    <b>   \n",
    "        <font color='#092A44'>\n",
    "             &nbsp; &nbsp; 2.3 Cálculo de $A=U \\Sigma V^T$\n",
    "        </font>\n",
    "    </b>\n",
    "</h4>"
   ]
  },
  {
   "cell_type": "markdown",
   "id": "cce0945e-ef17-438d-85bd-81cdff46e165",
   "metadata": {},
   "source": [
    "➥ Calculando a matriz $A^TA$:"
   ]
  },
  {
   "cell_type": "code",
   "execution_count": 10,
   "id": "d6332792-9386-463f-a9da-d94a1feeda48",
   "metadata": {},
   "outputs": [
    {
     "data": {
      "text/plain": [
       "(18, 18)"
      ]
     },
     "execution_count": 10,
     "metadata": {},
     "output_type": "execute_result"
    }
   ],
   "source": [
    "ATA = A.T @ A\n",
    "ATA.shape"
   ]
  },
  {
   "cell_type": "markdown",
   "id": "8f255791-f6e3-41e3-8dbd-765466d49090",
   "metadata": {},
   "source": [
    "➥ Calculando os autovalores e autovetores de $A^TA$ via iteração QR e utilizando o <b>NumPy</b> para comparação dos resultados obtidos:"
   ]
  },
  {
   "cell_type": "code",
   "execution_count": 11,
   "id": "66a3d0a2-6423-4388-88a9-e84933a29efe",
   "metadata": {},
   "outputs": [
    {
     "name": "stdout",
     "output_type": "stream",
     "text": [
      "\n",
      "Autovalores(ATA) - Obtido pela iteração QR:\n",
      " [4.77116737e+04 4.02099709e+04 5.83918387e+03 5.76621601e+03\n",
      " 4.08953573e+03 7.58640003e+02 3.36090374e+01 1.11283733e+01\n",
      " 6.63603707e+00 3.51928341e+00 1.96894125e+00 1.23407480e+00\n",
      " 5.61467695e-01 5.10250978e-01 4.67160791e-01 4.44457139e-01\n",
      " 4.03720863e-01 2.96985967e-01]\n",
      "\n",
      "Autovalores(ATA) - Obtido pela biblioteca NumPy:\n",
      " [4.77116737e+04 4.02099709e+04 5.83937219e+03 5.76602768e+03\n",
      " 4.08953573e+03 7.58640003e+02 3.36090374e+01 1.11283733e+01\n",
      " 6.63603707e+00 3.51928341e+00 1.96894125e+00 1.23407480e+00\n",
      " 5.61467697e-01 5.10250976e-01 4.67172071e-01 4.44445858e-01\n",
      " 4.03720863e-01 2.96985967e-01]\n"
     ]
    }
   ],
   "source": [
    "autovalores_ATA,    autovetores_ATA    = iteracao_qr(ATA,100)\n",
    "autovalores_ATA_np, autovetores_ATA_np = np.linalg.eig(ATA)\n",
    "\n",
    "print('\\nAutovalores(ATA) - Obtido pela iteração QR:\\n',     np.sort(autovalores_ATA)   [::-1])\n",
    "print('\\nAutovalores(ATA) - Obtido pela biblioteca NumPy:\\n',np.sort(autovalores_ATA_np)[::-1])"
   ]
  },
  {
   "cell_type": "markdown",
   "id": "dd14ce0d-ea34-4d1d-855b-548eb76f9a5a",
   "metadata": {},
   "source": [
    "➥ Ordenando os autovalores e autovetores de $A^TA$:"
   ]
  },
  {
   "cell_type": "code",
   "execution_count": 12,
   "id": "6abea766-be27-46e2-932a-de146461dcac",
   "metadata": {},
   "outputs": [],
   "source": [
    "idx             = autovalores_ATA.argsort()[::-1]\n",
    "autovalores_ATA = autovalores_ATA[idx]\n",
    "autovetores_ATA = autovetores_ATA[:, idx]"
   ]
  },
  {
   "cell_type": "markdown",
   "id": "02a15027-f224-4487-a594-a97fc48bffce",
   "metadata": {},
   "source": [
    "➥ Construindo as matrizes $V$ e $\\Sigma$ de $A$:"
   ]
  },
  {
   "cell_type": "code",
   "execution_count": 13,
   "id": "dccec062-5077-4133-b46d-848104149d8a",
   "metadata": {},
   "outputs": [
    {
     "name": "stdout",
     "output_type": "stream",
     "text": [
      "Dimensões Sigma: (5802, 18)\n",
      "Dimensões V: (18, 18)\n"
     ]
    }
   ],
   "source": [
    "# Matriz Sigma:\n",
    "valores_singulares_A = np.sqrt(autovalores_ATA)\n",
    "Sigma                = np.zeros((A.shape[0], A.shape[1]))\n",
    "np.fill_diagonal(Sigma, valores_singulares_A)\n",
    "\n",
    "#Matriz V:\n",
    "V  = autovetores_ATA\n",
    "VT = V.T\n",
    "\n",
    "print('Dimensões Sigma:',Sigma.shape)\n",
    "print('Dimensões V:',    V.shape)"
   ]
  },
  {
   "cell_type": "markdown",
   "id": "6e6730cb-8a1f-4771-8283-55580443a0c6",
   "metadata": {},
   "source": [
    "➥ Obtendo matrizes $U_{\\text{np}}$, $\\Sigma_{\\text{np}}$ e $V_{\\text{np}}^{T}$ pela biblioteca NumPy para comparações dos resultados obtidos:"
   ]
  },
  {
   "cell_type": "code",
   "execution_count": 14,
   "id": "d19aaec8-11f4-4370-9500-1b296a291970",
   "metadata": {},
   "outputs": [
    {
     "name": "stdout",
     "output_type": "stream",
     "text": [
      "diag(Sigma):\n",
      " [218.43002014 200.52424018  76.41455273  75.93560434  63.94947795\n",
      "  27.54342032   5.7973302    3.33592165   2.57605067   1.87597532\n",
      "   1.40318967   1.11088919   0.74931148   0.71431854   0.68349162\n",
      "   0.66667619   0.63539032   0.54496419]\n",
      "diag(Sigma_np):\n",
      " [218.43002014 200.52424018  76.41578497  75.9343643   63.94947795\n",
      "  27.54342032   5.7973302    3.33592165   2.57605067   1.87597532\n",
      "   1.40318967   1.11088919   0.74931148   0.71431854   0.68349987\n",
      "   0.66666773   0.63539032   0.54496419]\n",
      "VT[0]:\n",
      " [ 0.00388597 -0.0045566   0.20337757 -0.27160096  0.20490543 -0.29079334\n",
      "  0.20429353 -0.30467715  0.19820463 -0.30858524  0.18904348 -0.31135684\n",
      "  0.16221051 -0.30780766  0.14796042 -0.31117205  0.13999879 -0.31169757]\n",
      "VT_np[0]:\n",
      " [ 0.00388597 -0.0045566   0.20337754 -0.27160098  0.2049054  -0.29079336\n",
      "  0.2042935  -0.30467717  0.1982046  -0.30858525  0.18904345 -0.31135685\n",
      "  0.16221047 -0.30780768  0.14796039 -0.31117206  0.13999876 -0.31169759]\n"
     ]
    }
   ],
   "source": [
    "U_np, Sigma_np, VT_np = np.linalg.svd(A, full_matrices=False)\n",
    "\n",
    "print(\"diag(Sigma):\\n\" ,np.diag(Sigma))\n",
    "print(\"diag(Sigma_np):\\n\",Sigma_np)\n",
    "\n",
    "print(\"VT[0]:\\n\",VT[0])\n",
    "print(\"VT_np[0]:\\n\",VT_np[0])\n"
   ]
  },
  {
   "cell_type": "markdown",
   "id": "07c66ddb-a039-482d-9979-c7380148730f",
   "metadata": {},
   "source": [
    "➥ Construindo a Matriz $U$ = $AV\\Sigma^{-1}$:"
   ]
  },
  {
   "cell_type": "code",
   "execution_count": 15,
   "id": "20e7e34a-dc1d-4fc7-b3a6-b5b9629876f6",
   "metadata": {},
   "outputs": [
    {
     "name": "stdout",
     "output_type": "stream",
     "text": [
      "U[:,0]\n",
      " [-0.04529033 -0.04557697 -0.04496722 ...  0.01037127  0.01172578\n",
      " -0.00355707]\n",
      "U[:,0]\n",
      " [-0.04529034 -0.04557698 -0.04496722 ...  0.01037127  0.01172578\n",
      " -0.00355707]\n",
      "U[:,1]\n",
      " [ 0.04405459  0.04334411  0.04406847 ...  0.00943483  0.01145516\n",
      " -0.01688796]\n",
      "U[:,1]\n",
      " [-0.04405458 -0.04334411 -0.04406846 ... -0.00943483 -0.01145517\n",
      "  0.01688796]\n",
      "U.T @ U\n",
      " [1. 1. 1. 1. 1. 1. 1. 1. 1. 1. 1. 1. 1. 1. 1. 1. 1.]\n"
     ]
    }
   ],
   "source": [
    "U =  A @ V  @ np.linalg.pinv(Sigma)\n",
    "\n",
    "print('U[:,0]\\n',U[:,0])\n",
    "print('U[:,0]\\n',U_np[:,0])\n",
    "\n",
    "print('U[:,1]\\n',U[:,1])\n",
    "print('U[:,1]\\n',U_np[:,1])\n",
    "\n",
    "print('U.T @ U\\n',np.diag(U.T @ U)[0:17])"
   ]
  },
  {
   "cell_type": "markdown",
   "id": "86c9a5d2-b767-4fcf-9714-0110e9596a67",
   "metadata": {},
   "source": [
    "➥ Calculando  $\\|A-U\\Sigma V^T \\|_F$"
   ]
  },
  {
   "cell_type": "code",
   "execution_count": 16,
   "id": "56bb41ef-e1cf-44bb-af5a-13ef714074d0",
   "metadata": {},
   "outputs": [
    {
     "data": {
      "text/plain": [
       "1.4661761919142798e-12"
      ]
     },
     "execution_count": 16,
     "metadata": {},
     "output_type": "execute_result"
    }
   ],
   "source": [
    "np.linalg.norm(A - U @ Sigma @ VT)"
   ]
  },
  {
   "cell_type": "markdown",
   "id": "e01d3137-3710-4e7a-a3b5-20b4c970c41c",
   "metadata": {},
   "source": [
    "➥ Realizando redução de ordem para $k = 2,3,4,5$:"
   ]
  },
  {
   "cell_type": "code",
   "execution_count": 17,
   "id": "58230c50-2b04-46a5-9be9-5d52b1eada13",
   "metadata": {},
   "outputs": [
    {
     "name": "stdout",
     "output_type": "stream",
     "text": [
      "norma(A2-A)= 238.16869294624158\n",
      "norma(A3-A)= 128.50819195265666\n",
      "norma(A4-A)= 103.32072168794676\n",
      "norma(A5-A)= 70.06393882510014\n"
     ]
    }
   ],
   "source": [
    "A_2 = reducao_ordem(U, Sigma, VT, 2)\n",
    "A_3 = reducao_ordem(U, Sigma, VT, 3)\n",
    "A_4 = reducao_ordem(U, Sigma, VT, 4)\n",
    "A_5 = reducao_ordem(U, Sigma, VT, 5)\n",
    "\n",
    "print('norma(A2-A)=',np.linalg.norm(A_2-A))\n",
    "print('norma(A3-A)=',np.linalg.norm(A_3-A))\n",
    "print('norma(A4-A)=',np.linalg.norm(A_4-A))\n",
    "print('norma(A5-A)=',np.linalg.norm(A_5-A))"
   ]
  },
  {
   "cell_type": "markdown",
   "id": "8346e6ce-cf59-4fca-91b1-c476bca05687",
   "metadata": {},
   "source": [
    "➥ Armazenando a última coluna de <b>A_completa</b> (gabarito):"
   ]
  },
  {
   "cell_type": "code",
   "execution_count": 18,
   "id": "d1ff4121-17a0-43f6-accc-215055c7889c",
   "metadata": {},
   "outputs": [
    {
     "data": {
      "text/plain": [
       "array([0., 0., 0., ..., 1., 1., 1.])"
      ]
     },
     "execution_count": 18,
     "metadata": {},
     "output_type": "execute_result"
    }
   ],
   "source": [
    "y_true = A_completa[:,-1]\n",
    "y_true"
   ]
  },
  {
   "cell_type": "markdown",
   "id": "39e50c88-ff2d-4e7d-8114-1ef45294de5c",
   "metadata": {},
   "source": [
    "➥ Realizando o agrupamento para <b>A_2</b>, <b>A_3</b>, <b>A_4</b> e <b>A_5</b>, utilizando $U$, $\\Sigma$ e $V$:"
   ]
  },
  {
   "cell_type": "code",
   "execution_count": 19,
   "id": "ca207862-561b-4c86-8718-0747d3d571f9",
   "metadata": {},
   "outputs": [
    {
     "name": "stdout",
     "output_type": "stream",
     "text": [
      "Acurácia (Dimensão 2): 97.88004136504654\n",
      "Acurácia (Dimensão 3): 99.96552912788694\n",
      "Acurácia (Dimensão 4): 99.96552912788694\n",
      "Acurácia (Dimensão 5): 99.96552912788694\n"
     ]
    }
   ],
   "source": [
    "# Agrupamento com k-means para A_2\n",
    "kmeans_2 = KMeans(n_clusters=2, random_state=42)\n",
    "y_pred_2 = kmeans_2.fit_predict(A_2)\n",
    "\n",
    "# Agrupamento com k-means para A_3\n",
    "kmeans_3 = KMeans(n_clusters=2, random_state=42)\n",
    "y_pred_3 = kmeans_3.fit_predict(A_3)\n",
    "\n",
    "# Agrupamento com k-means para A_4\n",
    "kmeans_4 = KMeans(n_clusters=2, random_state=42)\n",
    "y_pred_4 = kmeans_4.fit_predict(A_4)\n",
    "\n",
    "# Agrupamento com k-means para A_5\n",
    "kmeans_5 = KMeans(n_clusters=2, random_state=42)\n",
    "y_pred_5 = kmeans_5.fit_predict(A_5)\n",
    "\n",
    "# Comparação com o Gabarito\n",
    "accuracy_2 = accuracy_score(y_true, y_pred_2)\n",
    "accuracy_3 = accuracy_score(y_true, y_pred_3)\n",
    "accuracy_4 = accuracy_score(y_true, y_pred_4)\n",
    "accuracy_5 = accuracy_score(y_true, y_pred_5)\n",
    "\n",
    "print(\"Acurácia (Dimensão 2):\", 100 - accuracy_2*100)\n",
    "print(\"Acurácia (Dimensão 3):\", 100 - accuracy_3*100)\n",
    "print(\"Acurácia (Dimensão 4):\", 100 - accuracy_4*100)\n",
    "print(\"Acurácia (Dimensão 5):\", 100 - accuracy_5*100)"
   ]
  },
  {
   "cell_type": "markdown",
   "id": "80f5f9df-dc2f-48dc-b48f-b2b6ac2d3253",
   "metadata": {},
   "source": [
    "➥ Realizando o agrupamento para <b>A_2_np</b>, <b>A_3_np</b>, <b>A_4_np</b> e <b>A_5_np</b>, utilizando $U_{\\text{np}}$, $\\Sigma_{\\text{np}}$ e $V_{\\text{np}}$:"
   ]
  },
  {
   "cell_type": "code",
   "execution_count": 20,
   "id": "2315db13-71c3-4985-910c-102da662c80d",
   "metadata": {},
   "outputs": [
    {
     "name": "stdout",
     "output_type": "stream",
     "text": [
      "norma(A2-A)= 238.16869294624135\n",
      "norma(A3-A)= 128.50819195265666\n",
      "norma(A4-A)= 103.31981032726732\n",
      "norma(A5-A)= 70.06393882510012\n",
      "Acurácia (Dimensão 2): 97.88004136504654\n",
      "Acurácia (Dimensão 3): 99.96552912788694\n",
      "Acurácia (Dimensão 4): 99.96552912788694\n",
      "Acurácia (Dimensão 5): 99.96552912788694\n"
     ]
    }
   ],
   "source": [
    "Sigma_np_novo = np.zeros((A.shape[1], A.shape[1]))\n",
    "np.fill_diagonal(Sigma_np_novo, Sigma_np)\n",
    "\n",
    "A_2_np = reducao_ordem(U_np, Sigma_np_novo, VT_np, 2)\n",
    "A_3_np = reducao_ordem(U_np, Sigma_np_novo, VT_np, 3)\n",
    "A_4_np = reducao_ordem(U_np, Sigma_np_novo, VT_np, 4)\n",
    "A_5_np = reducao_ordem(U_np, Sigma_np_novo, VT_np, 5)\n",
    "\n",
    "print('norma(A2-A)=',np.linalg.norm(A_2_np-A))\n",
    "print('norma(A3-A)=',np.linalg.norm(A_3_np-A))\n",
    "print('norma(A4-A)=',np.linalg.norm(A_4_np-A))\n",
    "print('norma(A5-A)=',np.linalg.norm(A_5_np-A))\n",
    "\n",
    "kmeans_2_np = KMeans(n_clusters=2, random_state=42)\n",
    "y_pred_2_np = kmeans_2_np.fit_predict(A_2_np)\n",
    "\n",
    "kmeans_3_np = KMeans(n_clusters=2, random_state=42)\n",
    "y_pred_3_np = kmeans_3_np.fit_predict(A_3_np)\n",
    "\n",
    "kmeans_4_np = KMeans(n_clusters=2, random_state=42)\n",
    "y_pred_4_np = kmeans_4_np.fit_predict(A_4_np)\n",
    "\n",
    "kmeans_5_np = KMeans(n_clusters=2, random_state=42)\n",
    "y_pred_5_np = kmeans_5_np.fit_predict(A_5_np)\n",
    "\n",
    "accuracy_2_np = accuracy_score(y_true, y_pred_2_np)\n",
    "accuracy_3_np = accuracy_score(y_true, y_pred_3_np)\n",
    "accuracy_4_np = accuracy_score(y_true, y_pred_4_np)\n",
    "accuracy_5_np = accuracy_score(y_true, y_pred_5_np)\n",
    "\n",
    "print(\"Acurácia (Dimensão 2):\", 100 - accuracy_2_np*100)\n",
    "print(\"Acurácia (Dimensão 3):\", 100 - accuracy_3_np*100)\n",
    "print(\"Acurácia (Dimensão 4):\", 100 - accuracy_4_np*100)\n",
    "print(\"Acurácia (Dimensão 5):\", 100 - accuracy_5_np*100)"
   ]
  },
  {
   "cell_type": "markdown",
   "id": "7c253388-14f2-4b9d-bc1f-d86a5a9ff0f5",
   "metadata": {},
   "source": [
    "<h3>\n",
    "    <b>   \n",
    "        <font color='#092A44'>\n",
    "            &nbsp; 3. Resultados\n",
    "        </font>\n",
    "    </b>\n",
    "</h3>\n",
    "\n",
    "&nbsp; Ao calcular a norma $\\|A - U \\Sigma V^T \\|_F$ , obtém-se o valor $1,47 \\times 10^{-12}$. Este valor indica que a decomposição SVD foi realizada com alta precisão, resultando em uma matriz $U \\Sigma V^T$ próxima da matriz original $A$.\n",
    "\n",
    "&nbsp; Com base nos resultados das normas $\\|A_k- A \\|_F$ para diferentes valores de $k$ após a decomposição SVD, pode-se concluir que à medida que o número de dimensões $k$ aumenta, a norma $\\|A_k- A \\|_F$ diminui, indicando que a matriz aproximada $A_k$ se torna cada vez mais próxima da matriz original $A$ conforme apresenta a Tabela 1.\n",
    "\n",
    "<center><b>Tabela 1</b> - Relação da redução de dimensionalidade com $\\| \\cdot \\|_F$.</center>\n",
    "\n",
    "| Dimensão  | $\\|A_k- A \\|_F$  |\n",
    "| --- |  --- |\n",
    "| 2| 238 |\n",
    "|3 | 128 | \n",
    "| 4|  103 |\n",
    "| 5 | 70 |\n",
    "<center>Fonte: O autor.</center>\n",
    "<br>\n",
    "&nbsp; A análise dos dados utilizando <i>clustering</i> com $n=2$ após a redução de dimensionalidade via SVD a Tabela 2 mostra os resultados de acurácia:\n",
    "\n",
    "<center><b>Tabela 2</b> - Acerto do agrupamento em relação ao gabarito.</center>\n",
    "\n",
    "| Dimensão  | Acerto (%)  |\n",
    "| --- |  --- |\n",
    "| 2| 97,88% |\n",
    "|3 | 99,97% | \n",
    "| 4| 99,97% |\n",
    "| 5 |99,97% |\n",
    "<center>Fonte: O autor.</center>\n",
    "<br>\n",
    "\n",
    "&nbsp;  Os resultados indicam que a acurácia do clustering melhora significativamente ao aumentar a dimensionalidade de 2 para 3, atingindo um valor quase perfeito de 99,97%. Esse alto nível de acurácia é mantido ao continuar aumentando a dimensionalidade para 4 e 5. Portanto, concluímos que a redução de dimensionalidade via SVD é altamente eficaz, e que a partir de 3 dimensões, a acurácia do clustering se estabiliza, não havendo ganhos significativos adicionais ao aumentar ainda mais o número de dimensões. Esses resultados demonstram a robustez e a eficiência da SVD para a preparação de dados para técnicas de clustering, garantindo alta precisão mesmo em dimensões reduzidas.\n"
   ]
  }
 ],
 "metadata": {
  "kernelspec": {
   "display_name": "Python 3 (ipykernel)",
   "language": "python",
   "name": "python3"
  },
  "language_info": {
   "codemirror_mode": {
    "name": "ipython",
    "version": 3
   },
   "file_extension": ".py",
   "mimetype": "text/x-python",
   "name": "python",
   "nbconvert_exporter": "python",
   "pygments_lexer": "ipython3",
   "version": "3.10.12"
  }
 },
 "nbformat": 4,
 "nbformat_minor": 5
}
